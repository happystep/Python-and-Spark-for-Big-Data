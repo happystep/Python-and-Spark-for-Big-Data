{
 "cells": [
  {
   "cell_type": "code",
   "execution_count": 1,
   "id": "efe096e7-3abb-4331-977e-1e909fb600da",
   "metadata": {},
   "outputs": [],
   "source": [
    "from pyspark.sql import SparkSession"
   ]
  },
  {
   "cell_type": "code",
   "execution_count": 2,
   "id": "4377aa44-b1c5-41a4-bfcf-007a2d06a092",
   "metadata": {},
   "outputs": [
    {
     "name": "stderr",
     "output_type": "stream",
     "text": [
      "24/04/06 13:37:29 WARN Utils: Your hostname, Luiss-Mac-mini.local resolves to a loopback address: 127.0.0.1; using 192.168.100.206 instead (on interface en1)\n",
      "24/04/06 13:37:29 WARN Utils: Set SPARK_LOCAL_IP if you need to bind to another address\n",
      "Setting default log level to \"WARN\".\n",
      "To adjust logging level use sc.setLogLevel(newLevel). For SparkR, use setLogLevel(newLevel).\n",
      "24/04/06 13:37:29 WARN NativeCodeLoader: Unable to load native-hadoop library for your platform... using builtin-java classes where applicable\n",
      "24/04/06 13:37:29 WARN Utils: Service 'SparkUI' could not bind on port 4040. Attempting port 4041.\n",
      "24/04/06 13:37:29 WARN Utils: Service 'SparkUI' could not bind on port 4041. Attempting port 4042.\n",
      "24/04/06 13:37:29 WARN Utils: Service 'SparkUI' could not bind on port 4042. Attempting port 4043.\n",
      "24/04/06 13:37:29 WARN Utils: Service 'SparkUI' could not bind on port 4043. Attempting port 4044.\n",
      "24/04/06 13:37:29 WARN Utils: Service 'SparkUI' could not bind on port 4044. Attempting port 4045.\n"
     ]
    }
   ],
   "source": [
    "spark = SparkSession.builder.appName('mytree').getOrCreate()"
   ]
  },
  {
   "cell_type": "code",
   "execution_count": 3,
   "id": "d2329c3d-06bb-43a2-9e2b-c89a7f5aec94",
   "metadata": {},
   "outputs": [],
   "source": [
    "from pyspark.ml import Pipeline"
   ]
  },
  {
   "cell_type": "code",
   "execution_count": 5,
   "id": "d9af7143-564d-4a52-bfbd-4c71d03c422f",
   "metadata": {},
   "outputs": [],
   "source": [
    "from pyspark.ml.classification import RandomForestClassifier, GBTClassifier, DecisionTreeClassifier"
   ]
  },
  {
   "cell_type": "code",
   "execution_count": 7,
   "id": "5abdb16d-e6c0-4154-b40c-ffc625f5b364",
   "metadata": {},
   "outputs": [
    {
     "name": "stderr",
     "output_type": "stream",
     "text": [
      "24/04/06 13:39:18 WARN LibSVMFileFormat: 'numFeatures' option not specified, determining the number of features by going though the input. If you know the number in advance, please specify it via 'numFeatures' option to avoid the extra scan.\n"
     ]
    }
   ],
   "source": [
    "data = spark.read.format('libsvm').load('sample_libsvm_data.txt')"
   ]
  },
  {
   "cell_type": "code",
   "execution_count": 8,
   "id": "e522db17-c642-46f8-8a20-97f44b9ac51a",
   "metadata": {},
   "outputs": [
    {
     "name": "stdout",
     "output_type": "stream",
     "text": [
      "+-----+--------------------+\n",
      "|label|            features|\n",
      "+-----+--------------------+\n",
      "|  0.0|(692,[127,128,129...|\n",
      "|  1.0|(692,[158,159,160...|\n",
      "|  1.0|(692,[124,125,126...|\n",
      "|  1.0|(692,[152,153,154...|\n",
      "|  1.0|(692,[151,152,153...|\n",
      "|  0.0|(692,[129,130,131...|\n",
      "|  1.0|(692,[158,159,160...|\n",
      "|  1.0|(692,[99,100,101,...|\n",
      "|  0.0|(692,[154,155,156...|\n",
      "|  0.0|(692,[127,128,129...|\n",
      "|  1.0|(692,[154,155,156...|\n",
      "|  0.0|(692,[153,154,155...|\n",
      "|  0.0|(692,[151,152,153...|\n",
      "|  1.0|(692,[129,130,131...|\n",
      "|  0.0|(692,[154,155,156...|\n",
      "|  1.0|(692,[150,151,152...|\n",
      "|  0.0|(692,[124,125,126...|\n",
      "|  0.0|(692,[152,153,154...|\n",
      "|  1.0|(692,[97,98,99,12...|\n",
      "|  1.0|(692,[124,125,126...|\n",
      "+-----+--------------------+\n",
      "only showing top 20 rows\n",
      "\n"
     ]
    }
   ],
   "source": [
    "data.show()"
   ]
  },
  {
   "cell_type": "code",
   "execution_count": 9,
   "id": "1cf73cc5-3cbe-4d99-b0d1-a2eaf06c9038",
   "metadata": {},
   "outputs": [],
   "source": [
    "train_data, test_data = data.randomSplit([0.7, 0.3])"
   ]
  },
  {
   "cell_type": "code",
   "execution_count": 11,
   "id": "e229d71e-4fa5-4e0c-89f0-bc3ee8a05d7a",
   "metadata": {},
   "outputs": [],
   "source": [
    "dtc = DecisionTreeClassifier()\n",
    "rfc = RandomForestClassifier(numTrees=100)\n",
    "gbt = GBTClassifier()"
   ]
  },
  {
   "cell_type": "code",
   "execution_count": 12,
   "id": "12a195f2-1c96-4073-b505-15bd3c99570e",
   "metadata": {},
   "outputs": [],
   "source": [
    "dtc_model = dtc.fit(train_data)\n",
    "rfc_model = rfc.fit(train_data)\n",
    "gbt_model = gbt.fit(train_data)"
   ]
  },
  {
   "cell_type": "code",
   "execution_count": 13,
   "id": "af363064-90c2-4fe1-abee-2e5be1010bba",
   "metadata": {},
   "outputs": [],
   "source": [
    "dtc_preds = dtc_model.transform(test_data)\n",
    "rfc_preds = rfc_model.transform(test_data)\n",
    "gbt_preds = gbt_model.transform(test_data)"
   ]
  },
  {
   "cell_type": "code",
   "execution_count": 14,
   "id": "9c3b5996-b1ca-4111-9b99-333a23fc9ce7",
   "metadata": {},
   "outputs": [
    {
     "name": "stdout",
     "output_type": "stream",
     "text": [
      "+-----+--------------------+-------------+-----------+----------+\n",
      "|label|            features|rawPrediction|probability|prediction|\n",
      "+-----+--------------------+-------------+-----------+----------+\n",
      "|  0.0|(692,[122,123,148...|   [33.0,0.0]|  [1.0,0.0]|       0.0|\n",
      "|  0.0|(692,[123,124,125...|   [33.0,0.0]|  [1.0,0.0]|       0.0|\n",
      "|  0.0|(692,[123,124,125...|   [33.0,0.0]|  [1.0,0.0]|       0.0|\n",
      "|  0.0|(692,[126,127,128...|   [33.0,0.0]|  [1.0,0.0]|       0.0|\n",
      "|  0.0|(692,[127,128,129...|   [33.0,0.0]|  [1.0,0.0]|       0.0|\n",
      "|  0.0|(692,[127,128,129...|   [33.0,0.0]|  [1.0,0.0]|       0.0|\n",
      "|  0.0|(692,[128,129,130...|   [33.0,0.0]|  [1.0,0.0]|       0.0|\n",
      "|  0.0|(692,[151,152,153...|   [33.0,0.0]|  [1.0,0.0]|       0.0|\n",
      "|  0.0|(692,[152,153,154...|   [33.0,0.0]|  [1.0,0.0]|       0.0|\n",
      "|  0.0|(692,[155,156,180...|   [33.0,0.0]|  [1.0,0.0]|       0.0|\n",
      "|  1.0|(692,[123,124,125...|   [0.0,41.0]|  [0.0,1.0]|       1.0|\n",
      "|  1.0|(692,[123,124,125...|   [0.0,41.0]|  [0.0,1.0]|       1.0|\n",
      "|  1.0|(692,[125,126,127...|   [0.0,41.0]|  [0.0,1.0]|       1.0|\n",
      "|  1.0|(692,[125,126,127...|   [0.0,41.0]|  [0.0,1.0]|       1.0|\n",
      "|  1.0|(692,[125,126,153...|   [0.0,41.0]|  [0.0,1.0]|       1.0|\n",
      "|  1.0|(692,[128,129,130...|   [0.0,41.0]|  [0.0,1.0]|       1.0|\n",
      "|  1.0|(692,[128,129,130...|   [0.0,41.0]|  [0.0,1.0]|       1.0|\n",
      "|  1.0|(692,[128,129,155...|   [0.0,41.0]|  [0.0,1.0]|       1.0|\n",
      "|  1.0|(692,[129,130,131...|   [0.0,41.0]|  [0.0,1.0]|       1.0|\n",
      "|  1.0|(692,[129,130,131...|   [0.0,41.0]|  [0.0,1.0]|       1.0|\n",
      "+-----+--------------------+-------------+-----------+----------+\n",
      "only showing top 20 rows\n",
      "\n"
     ]
    }
   ],
   "source": [
    "dtc_preds.show()"
   ]
  },
  {
   "cell_type": "code",
   "execution_count": 16,
   "id": "be756a30-bb31-48b5-8770-a8aea21628fb",
   "metadata": {},
   "outputs": [
    {
     "name": "stdout",
     "output_type": "stream",
     "text": [
      "+-----+--------------------+-------------+-----------+----------+\n",
      "|label|            features|rawPrediction|probability|prediction|\n",
      "+-----+--------------------+-------------+-----------+----------+\n",
      "|  0.0|(692,[122,123,148...|   [91.0,9.0]|[0.91,0.09]|       0.0|\n",
      "|  0.0|(692,[123,124,125...|  [100.0,0.0]|  [1.0,0.0]|       0.0|\n",
      "|  0.0|(692,[123,124,125...|   [96.0,4.0]|[0.96,0.04]|       0.0|\n",
      "|  0.0|(692,[126,127,128...|   [97.0,3.0]|[0.97,0.03]|       0.0|\n",
      "|  0.0|(692,[127,128,129...|   [96.0,4.0]|[0.96,0.04]|       0.0|\n",
      "|  0.0|(692,[127,128,129...|   [93.0,7.0]|[0.93,0.07]|       0.0|\n",
      "|  0.0|(692,[128,129,130...|   [98.0,2.0]|[0.98,0.02]|       0.0|\n",
      "|  0.0|(692,[151,152,153...|   [99.0,1.0]|[0.99,0.01]|       0.0|\n",
      "|  0.0|(692,[152,153,154...|  [88.0,12.0]|[0.88,0.12]|       0.0|\n",
      "|  0.0|(692,[155,156,180...|   [97.0,3.0]|[0.97,0.03]|       0.0|\n",
      "|  1.0|(692,[123,124,125...|   [2.0,98.0]|[0.02,0.98]|       1.0|\n",
      "|  1.0|(692,[123,124,125...|   [2.0,98.0]|[0.02,0.98]|       1.0|\n",
      "|  1.0|(692,[125,126,127...|  [0.0,100.0]|  [0.0,1.0]|       1.0|\n",
      "|  1.0|(692,[125,126,127...|  [0.0,100.0]|  [0.0,1.0]|       1.0|\n",
      "|  1.0|(692,[125,126,153...|   [1.0,99.0]|[0.01,0.99]|       1.0|\n",
      "|  1.0|(692,[128,129,130...|   [3.0,97.0]|[0.03,0.97]|       1.0|\n",
      "|  1.0|(692,[128,129,130...|   [4.0,96.0]|[0.04,0.96]|       1.0|\n",
      "|  1.0|(692,[128,129,155...|   [5.0,95.0]|[0.05,0.95]|       1.0|\n",
      "|  1.0|(692,[129,130,131...|  [0.0,100.0]|  [0.0,1.0]|       1.0|\n",
      "|  1.0|(692,[129,130,131...|   [4.0,96.0]|[0.04,0.96]|       1.0|\n",
      "+-----+--------------------+-------------+-----------+----------+\n",
      "only showing top 20 rows\n",
      "\n"
     ]
    }
   ],
   "source": [
    "rfc_preds.show()"
   ]
  },
  {
   "cell_type": "code",
   "execution_count": 17,
   "id": "08479405-2fc8-48e7-9777-54bd7703a626",
   "metadata": {},
   "outputs": [
    {
     "name": "stdout",
     "output_type": "stream",
     "text": [
      "+-----+--------------------+--------------------+--------------------+----------+\n",
      "|label|            features|       rawPrediction|         probability|prediction|\n",
      "+-----+--------------------+--------------------+--------------------+----------+\n",
      "|  0.0|(692,[122,123,148...|[1.54350200272498...|[0.95635347857270...|       0.0|\n",
      "|  0.0|(692,[123,124,125...|[1.54350200272498...|[0.95635347857270...|       0.0|\n",
      "|  0.0|(692,[123,124,125...|[1.54350200272498...|[0.95635347857270...|       0.0|\n",
      "|  0.0|(692,[126,127,128...|[1.54350200272498...|[0.95635347857270...|       0.0|\n",
      "|  0.0|(692,[127,128,129...|[1.54350200272498...|[0.95635347857270...|       0.0|\n",
      "|  0.0|(692,[127,128,129...|[1.43551560054612...|[0.94639568583144...|       0.0|\n",
      "|  0.0|(692,[128,129,130...|[1.54350200272498...|[0.95635347857270...|       0.0|\n",
      "|  0.0|(692,[151,152,153...|[1.32306464508358...|[0.93377202024286...|       0.0|\n",
      "|  0.0|(692,[152,153,154...|[1.54350200272498...|[0.95635347857270...|       0.0|\n",
      "|  0.0|(692,[155,156,180...|[1.54350200272498...|[0.95635347857270...|       0.0|\n",
      "|  1.0|(692,[123,124,125...|[-1.5435020027249...|[0.04364652142729...|       1.0|\n",
      "|  1.0|(692,[123,124,125...|[-1.5435020027249...|[0.04364652142729...|       1.0|\n",
      "|  1.0|(692,[125,126,127...|[-1.5435020027249...|[0.04364652142729...|       1.0|\n",
      "|  1.0|(692,[125,126,127...|[-1.5435020027249...|[0.04364652142729...|       1.0|\n",
      "|  1.0|(692,[125,126,153...|[-1.5435020027249...|[0.04364652142729...|       1.0|\n",
      "|  1.0|(692,[128,129,130...|[-1.5435020027249...|[0.04364652142729...|       1.0|\n",
      "|  1.0|(692,[128,129,130...|[-1.5435020027249...|[0.04364652142729...|       1.0|\n",
      "|  1.0|(692,[128,129,155...|[-1.5435020027249...|[0.04364652142729...|       1.0|\n",
      "|  1.0|(692,[129,130,131...|[-1.5435020027249...|[0.04364652142729...|       1.0|\n",
      "|  1.0|(692,[129,130,131...|[-1.5435020027249...|[0.04364652142729...|       1.0|\n",
      "+-----+--------------------+--------------------+--------------------+----------+\n",
      "only showing top 20 rows\n",
      "\n"
     ]
    },
    {
     "name": "stderr",
     "output_type": "stream",
     "text": [
      "24/04/06 13:43:44 WARN InstanceBuilder: Failed to load implementation from:dev.ludovic.netlib.blas.JNIBLAS\n"
     ]
    }
   ],
   "source": [
    "gbt_preds.show()"
   ]
  },
  {
   "cell_type": "code",
   "execution_count": 18,
   "id": "c1ec09b5-92ae-482c-bd0b-bee9edc1d9e0",
   "metadata": {},
   "outputs": [],
   "source": [
    "from pyspark.ml.evaluation import MulticlassClassificationEvaluator"
   ]
  },
  {
   "cell_type": "code",
   "execution_count": 19,
   "id": "89e2f300-772d-4dd7-8ec0-9fc2bf1e64ef",
   "metadata": {},
   "outputs": [],
   "source": [
    "acc_eval = MulticlassClassificationEvaluator(metricName='accuracy')"
   ]
  },
  {
   "cell_type": "code",
   "execution_count": 20,
   "id": "aed4fd9d-196c-456d-ab5c-77e2d2038714",
   "metadata": {},
   "outputs": [
    {
     "data": {
      "text/plain": [
       "1.0"
      ]
     },
     "execution_count": 20,
     "metadata": {},
     "output_type": "execute_result"
    }
   ],
   "source": [
    "acc_eval.evaluate(dtc_preds)"
   ]
  },
  {
   "cell_type": "code",
   "execution_count": 22,
   "id": "09ec4d51-2c6e-43fc-9ced-07e2b4b2c6ed",
   "metadata": {},
   "outputs": [
    {
     "data": {
      "text/plain": [
       "1.0"
      ]
     },
     "execution_count": 22,
     "metadata": {},
     "output_type": "execute_result"
    }
   ],
   "source": [
    "acc_eval.evaluate(rfc_preds)"
   ]
  },
  {
   "cell_type": "code",
   "execution_count": 23,
   "id": "f9781937-1092-4932-8d0e-cd7f4978858e",
   "metadata": {},
   "outputs": [
    {
     "data": {
      "text/plain": [
       "1.0"
      ]
     },
     "execution_count": 23,
     "metadata": {},
     "output_type": "execute_result"
    }
   ],
   "source": [
    "acc_eval.evaluate(gbt_preds)"
   ]
  },
  {
   "cell_type": "code",
   "execution_count": 24,
   "id": "79a4e579-99be-4718-97b5-8b7797da7869",
   "metadata": {},
   "outputs": [
    {
     "data": {
      "text/plain": [
       "SparseVector(692, {100: 0.0033, 120: 0.0006, 129: 0.0004, 131: 0.0005, 151: 0.0016, 154: 0.0005, 156: 0.0022, 176: 0.0004, 182: 0.002, 183: 0.0007, 187: 0.0003, 206: 0.0018, 209: 0.0006, 217: 0.0015, 234: 0.0013, 242: 0.0006, 244: 0.0081, 245: 0.0006, 262: 0.0003, 263: 0.0061, 267: 0.0018, 270: 0.0008, 271: 0.0005, 272: 0.0079, 274: 0.0029, 275: 0.0005, 288: 0.0006, 297: 0.0004, 300: 0.0075, 301: 0.0074, 303: 0.0019, 313: 0.0005, 314: 0.0016, 315: 0.0019, 316: 0.001, 319: 0.0008, 323: 0.0118, 324: 0.001, 327: 0.0041, 328: 0.0147, 329: 0.008, 330: 0.0044, 331: 0.0047, 345: 0.0123, 346: 0.0011, 348: 0.0008, 349: 0.0001, 350: 0.0299, 351: 0.0038, 352: 0.0021, 353: 0.0005, 355: 0.0013, 356: 0.011, 357: 0.0062, 359: 0.0025, 370: 0.0074, 373: 0.0064, 374: 0.0048, 375: 0.0004, 376: 0.0005, 377: 0.0223, 378: 0.0268, 379: 0.0181, 380: 0.003, 381: 0.0003, 382: 0.0021, 383: 0.0005, 384: 0.0099, 385: 0.0028, 386: 0.0012, 398: 0.0014, 399: 0.0008, 400: 0.0068, 401: 0.007, 402: 0.0006, 405: 0.0394, 406: 0.0156, 407: 0.019, 408: 0.0018, 410: 0.0021, 412: 0.0133, 413: 0.0057, 415: 0.0045, 426: 0.006, 429: 0.0134, 430: 0.0005, 432: 0.0116, 433: 0.0265, 434: 0.0298, 435: 0.0126, 436: 0.0009, 438: 0.0012, 439: 0.0014, 440: 0.0134, 441: 0.0023, 442: 0.0013, 455: 0.0312, 456: 0.0012, 457: 0.0038, 458: 0.0024, 459: 0.0003, 460: 0.0005, 461: 0.0291, 465: 0.0012, 467: 0.0034, 468: 0.0099, 469: 0.0077, 471: 0.0031, 482: 0.0026, 483: 0.0156, 484: 0.0111, 485: 0.0093, 486: 0.0004, 487: 0.0004, 489: 0.0293, 490: 0.0678, 492: 0.0007, 495: 0.0031, 496: 0.0165, 497: 0.0064, 498: 0.0018, 511: 0.0256, 512: 0.0347, 514: 0.0018, 516: 0.0011, 517: 0.0383, 518: 0.0016, 519: 0.0004, 523: 0.0178, 538: 0.0022, 539: 0.0166, 540: 0.02, 542: 0.0003, 544: 0.0005, 545: 0.0088, 551: 0.0004, 567: 0.0051, 568: 0.0076, 569: 0.0017, 581: 0.0004, 593: 0.0005, 595: 0.0017, 596: 0.0005, 597: 0.0047, 603: 0.0002, 605: 0.0075, 624: 0.0004, 627: 0.0002, 630: 0.0016, 652: 0.0002, 653: 0.0006, 655: 0.0004, 657: 0.0003, 685: 0.0003})"
      ]
     },
     "execution_count": 24,
     "metadata": {},
     "output_type": "execute_result"
    }
   ],
   "source": [
    "rfc_model.featureImportances"
   ]
  },
  {
   "cell_type": "code",
   "execution_count": null,
   "id": "798e1d39-f442-496f-b952-d391fad2edba",
   "metadata": {},
   "outputs": [],
   "source": []
  }
 ],
 "metadata": {
  "kernelspec": {
   "display_name": "Python 3 (ipykernel)",
   "language": "python",
   "name": "python3"
  },
  "language_info": {
   "codemirror_mode": {
    "name": "ipython",
    "version": 3
   },
   "file_extension": ".py",
   "mimetype": "text/x-python",
   "name": "python",
   "nbconvert_exporter": "python",
   "pygments_lexer": "ipython3",
   "version": "3.9.6"
  }
 },
 "nbformat": 4,
 "nbformat_minor": 5
}
