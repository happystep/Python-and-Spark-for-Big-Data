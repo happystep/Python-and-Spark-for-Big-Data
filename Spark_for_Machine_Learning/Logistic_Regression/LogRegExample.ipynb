{
 "cells": [
  {
   "cell_type": "code",
   "execution_count": 1,
   "id": "ef54b6ce-fc6a-4228-b717-000ddf8b8257",
   "metadata": {},
   "outputs": [],
   "source": [
    "from pyspark.sql import SparkSession"
   ]
  },
  {
   "cell_type": "code",
   "execution_count": 2,
   "id": "8a1dcf48-1c0d-4904-be62-60383052e368",
   "metadata": {},
   "outputs": [
    {
     "name": "stderr",
     "output_type": "stream",
     "text": [
      "24/04/06 10:56:23 WARN Utils: Your hostname, Luiss-Mac-mini.local resolves to a loopback address: 127.0.0.1; using 192.168.100.206 instead (on interface en1)\n",
      "24/04/06 10:56:23 WARN Utils: Set SPARK_LOCAL_IP if you need to bind to another address\n",
      "Setting default log level to \"WARN\".\n",
      "To adjust logging level use sc.setLogLevel(newLevel). For SparkR, use setLogLevel(newLevel).\n",
      "24/04/06 10:56:23 WARN NativeCodeLoader: Unable to load native-hadoop library for your platform... using builtin-java classes where applicable\n",
      "24/04/06 10:56:23 WARN Utils: Service 'SparkUI' could not bind on port 4040. Attempting port 4041.\n",
      "24/04/06 10:56:23 WARN Utils: Service 'SparkUI' could not bind on port 4041. Attempting port 4042.\n"
     ]
    }
   ],
   "source": [
    "spark = SparkSession.builder.appName('mylogreg').getOrCreate()"
   ]
  },
  {
   "cell_type": "code",
   "execution_count": 3,
   "id": "b95fa250-ac9d-465b-8bfe-863877f7b591",
   "metadata": {},
   "outputs": [],
   "source": [
    "from pyspark.ml.classification import LogisticRegression"
   ]
  },
  {
   "cell_type": "code",
   "execution_count": 4,
   "id": "1f390f74-2bbb-4b1b-8965-3ace06dd663a",
   "metadata": {},
   "outputs": [
    {
     "name": "stderr",
     "output_type": "stream",
     "text": [
      "24/04/06 10:57:08 WARN LibSVMFileFormat: 'numFeatures' option not specified, determining the number of features by going though the input. If you know the number in advance, please specify it via 'numFeatures' option to avoid the extra scan.\n"
     ]
    }
   ],
   "source": [
    "my_data = spark.read.format('libsvm').load('sample_libsvm_data.txt')"
   ]
  },
  {
   "cell_type": "code",
   "execution_count": 5,
   "id": "cad191e9-7fbd-4cf9-a8c0-b891f565de4f",
   "metadata": {},
   "outputs": [
    {
     "name": "stdout",
     "output_type": "stream",
     "text": [
      "+-----+--------------------+\n",
      "|label|            features|\n",
      "+-----+--------------------+\n",
      "|  0.0|(692,[127,128,129...|\n",
      "|  1.0|(692,[158,159,160...|\n",
      "|  1.0|(692,[124,125,126...|\n",
      "|  1.0|(692,[152,153,154...|\n",
      "|  1.0|(692,[151,152,153...|\n",
      "|  0.0|(692,[129,130,131...|\n",
      "|  1.0|(692,[158,159,160...|\n",
      "|  1.0|(692,[99,100,101,...|\n",
      "|  0.0|(692,[154,155,156...|\n",
      "|  0.0|(692,[127,128,129...|\n",
      "|  1.0|(692,[154,155,156...|\n",
      "|  0.0|(692,[153,154,155...|\n",
      "|  0.0|(692,[151,152,153...|\n",
      "|  1.0|(692,[129,130,131...|\n",
      "|  0.0|(692,[154,155,156...|\n",
      "|  1.0|(692,[150,151,152...|\n",
      "|  0.0|(692,[124,125,126...|\n",
      "|  0.0|(692,[152,153,154...|\n",
      "|  1.0|(692,[97,98,99,12...|\n",
      "|  1.0|(692,[124,125,126...|\n",
      "+-----+--------------------+\n",
      "only showing top 20 rows\n",
      "\n"
     ]
    }
   ],
   "source": [
    "my_data.show()"
   ]
  },
  {
   "cell_type": "code",
   "execution_count": 6,
   "id": "a9474efd-f689-426a-acb2-255bd2582591",
   "metadata": {},
   "outputs": [],
   "source": [
    "my_log_reg_model = LogisticRegression()"
   ]
  },
  {
   "cell_type": "code",
   "execution_count": 7,
   "id": "bdfb7481-23c4-461a-b8c8-696abce09769",
   "metadata": {},
   "outputs": [
    {
     "name": "stderr",
     "output_type": "stream",
     "text": [
      "24/04/06 10:58:26 WARN InstanceBuilder: Failed to load implementation from:dev.ludovic.netlib.blas.JNIBLAS\n"
     ]
    }
   ],
   "source": [
    "fitted_logreg = my_log_reg_model.fit(my_data)"
   ]
  },
  {
   "cell_type": "code",
   "execution_count": 8,
   "id": "ae9bb7f9-fc73-4225-8441-e6d48acd3bca",
   "metadata": {},
   "outputs": [],
   "source": [
    "log_summary = fitted_logreg.summary"
   ]
  },
  {
   "cell_type": "code",
   "execution_count": 10,
   "id": "7e434f65-713e-4e28-8583-1a8e93213f7b",
   "metadata": {},
   "outputs": [
    {
     "name": "stdout",
     "output_type": "stream",
     "text": [
      "root\n",
      " |-- label: double (nullable = true)\n",
      " |-- features: vector (nullable = true)\n",
      " |-- rawPrediction: vector (nullable = true)\n",
      " |-- probability: vector (nullable = true)\n",
      " |-- prediction: double (nullable = false)\n",
      "\n"
     ]
    }
   ],
   "source": [
    "log_summary.predictions.printSchema()"
   ]
  },
  {
   "cell_type": "code",
   "execution_count": 11,
   "id": "781c1495-61d6-46d8-99fe-19e2a879d8f9",
   "metadata": {},
   "outputs": [
    {
     "name": "stdout",
     "output_type": "stream",
     "text": [
      "+-----+--------------------+--------------------+--------------------+----------+\n",
      "|label|            features|       rawPrediction|         probability|prediction|\n",
      "+-----+--------------------+--------------------+--------------------+----------+\n",
      "|  0.0|(692,[127,128,129...|[20.3777627514870...|[0.99999999858729...|       0.0|\n",
      "|  1.0|(692,[158,159,160...|[-21.114014198872...|[6.76550379997544...|       1.0|\n",
      "|  1.0|(692,[124,125,126...|[-23.743613234669...|[4.87842678719363...|       1.0|\n",
      "|  1.0|(692,[152,153,154...|[-19.192574012715...|[4.62137287300564...|       1.0|\n",
      "|  1.0|(692,[151,152,153...|[-20.125398874693...|[1.81823629114105...|       1.0|\n",
      "|  0.0|(692,[129,130,131...|[20.4890549504180...|[0.99999999873608...|       0.0|\n",
      "|  1.0|(692,[158,159,160...|[-21.082940212819...|[6.97903542820426...|       1.0|\n",
      "|  1.0|(692,[99,100,101,...|[-19.622713503550...|[3.00582577446273...|       1.0|\n",
      "|  0.0|(692,[154,155,156...|[21.1594863606545...|[0.99999999935352...|       0.0|\n",
      "|  0.0|(692,[127,128,129...|[28.1036706837249...|[0.99999999999937...|       0.0|\n",
      "|  1.0|(692,[154,155,156...|[-21.054076780103...|[7.18340962962567...|       1.0|\n",
      "|  0.0|(692,[153,154,155...|[26.9648490510157...|[0.99999999999805...|       0.0|\n",
      "|  0.0|(692,[151,152,153...|[32.7855654161371...|[0.99999999999999...|       0.0|\n",
      "|  1.0|(692,[129,130,131...|[-20.331839179672...|[1.47908944089075...|       1.0|\n",
      "|  0.0|(692,[154,155,156...|[21.7830579106544...|[0.99999999965347...|       0.0|\n",
      "|  1.0|(692,[150,151,152...|[-20.640562103727...|[1.08621994880500...|       1.0|\n",
      "|  0.0|(692,[124,125,126...|[22.6400775503720...|[0.99999999985292...|       0.0|\n",
      "|  0.0|(692,[152,153,154...|[38.0712919910887...|           [1.0,0.0]|       0.0|\n",
      "|  1.0|(692,[97,98,99,12...|[-19.830803265607...|[2.44113371550856...|       1.0|\n",
      "|  1.0|(692,[124,125,126...|[-21.016054806032...|[7.46179590487585...|       1.0|\n",
      "+-----+--------------------+--------------------+--------------------+----------+\n",
      "only showing top 20 rows\n",
      "\n"
     ]
    }
   ],
   "source": [
    "log_summary.predictions.show()"
   ]
  },
  {
   "cell_type": "code",
   "execution_count": 12,
   "id": "9096d5f8-dcfa-4e9a-b58c-cc85b6387055",
   "metadata": {},
   "outputs": [],
   "source": [
    "lr_train, lr_test = my_data.randomSplit([0.7, 0.3])"
   ]
  },
  {
   "cell_type": "code",
   "execution_count": 13,
   "id": "017b5ef1-4f7a-4634-a46c-fc0016fed6fe",
   "metadata": {},
   "outputs": [],
   "source": [
    "final_model = LogisticRegression()"
   ]
  },
  {
   "cell_type": "code",
   "execution_count": 15,
   "id": "b34311dc-d893-41b3-b904-1a6b46a1b767",
   "metadata": {},
   "outputs": [],
   "source": [
    "fit_final = final_model.fit(lr_train)"
   ]
  },
  {
   "cell_type": "code",
   "execution_count": 16,
   "id": "754a0321-2897-4c86-9892-80c13992ed3a",
   "metadata": {},
   "outputs": [],
   "source": [
    "prediction_and_labels = fit_final.evaluate(lr_test)"
   ]
  },
  {
   "cell_type": "code",
   "execution_count": 17,
   "id": "3a227f5f-10f3-4dc9-8ffb-375e6a6efb71",
   "metadata": {},
   "outputs": [
    {
     "name": "stdout",
     "output_type": "stream",
     "text": [
      "+-----+--------------------+--------------------+--------------------+----------+\n",
      "|label|            features|       rawPrediction|         probability|prediction|\n",
      "+-----+--------------------+--------------------+--------------------+----------+\n",
      "|  0.0|(692,[95,96,97,12...|[17.1696565317755...|[0.99999996506080...|       0.0|\n",
      "|  0.0|(692,[122,123,124...|[16.8834419218296...|[0.99999995348271...|       0.0|\n",
      "|  0.0|(692,[123,124,125...|[28.1719208640618...|[0.99999999999941...|       0.0|\n",
      "|  0.0|(692,[124,125,126...|[23.6447201312349...|[0.99999999994614...|       0.0|\n",
      "|  0.0|(692,[126,127,128...|[24.1540980571779...|[0.99999999996764...|       0.0|\n",
      "|  0.0|(692,[126,127,128...|[25.2571189558742...|[0.99999999998926...|       0.0|\n",
      "|  0.0|(692,[128,129,130...|[18.6687156953240...|[0.99999999219667...|       0.0|\n",
      "|  0.0|(692,[151,152,153...|[31.1763226062026...|[0.99999999999997...|       0.0|\n",
      "|  0.0|(692,[234,235,237...|[-0.1556809432588...|[0.46115818183993...|       1.0|\n",
      "|  1.0|(692,[100,101,102...|[55.1017829305941...|           [1.0,0.0]|       0.0|\n",
      "|  1.0|(692,[119,120,121...|[-2.6938877833699...|[0.06333498884674...|       1.0|\n",
      "|  1.0|(692,[123,124,125...|[-24.138464178077...|[3.28698866033611...|       1.0|\n",
      "|  1.0|(692,[124,125,126...|[-18.228113307084...|[1.21235824389660...|       1.0|\n",
      "|  1.0|(692,[125,126,127...|[-21.375023429562...|[5.21129038548987...|       1.0|\n",
      "|  1.0|(692,[126,127,128...|[-26.864042787653...|[2.15324999910756...|       1.0|\n",
      "|  1.0|(692,[126,127,128...|[-21.321080987102...|[5.50012017658742...|       1.0|\n",
      "|  1.0|(692,[127,128,129...|[-25.955031813440...|[5.34407944582135...|       1.0|\n",
      "|  1.0|(692,[127,128,129...|[-23.355015679539...|[7.19524465562973...|       1.0|\n",
      "|  1.0|(692,[128,129,130...|[-19.944919410559...|[2.17786801654260...|       1.0|\n",
      "|  1.0|(692,[129,130,131...|[-1.8750266519612...|[0.13296116766316...|       1.0|\n",
      "+-----+--------------------+--------------------+--------------------+----------+\n",
      "only showing top 20 rows\n",
      "\n"
     ]
    }
   ],
   "source": [
    "prediction_and_labels.predictions.show()"
   ]
  },
  {
   "cell_type": "code",
   "execution_count": 18,
   "id": "d8878ca9-cc56-40d9-805a-0aaed8865f59",
   "metadata": {},
   "outputs": [],
   "source": [
    "from pyspark.ml.evaluation import BinaryClassificationEvaluator, MulticlassClassificationEvaluator"
   ]
  },
  {
   "cell_type": "code",
   "execution_count": 19,
   "id": "ca1c1e25-bf6d-48d7-bd09-27c535d3c5a7",
   "metadata": {},
   "outputs": [],
   "source": [
    "my_eval = BinaryClassificationEvaluator()"
   ]
  },
  {
   "cell_type": "code",
   "execution_count": 20,
   "id": "a216c258-1759-46c0-b5bf-fb27e288429f",
   "metadata": {},
   "outputs": [],
   "source": [
    "my_final_roc = my_eval.evaluate(prediction_and_labels.predictions)"
   ]
  },
  {
   "cell_type": "code",
   "execution_count": 21,
   "id": "344a3654-c8c9-46c5-addb-ca3262ed81bb",
   "metadata": {},
   "outputs": [
    {
     "data": {
      "text/plain": [
       "0.9500000000000001"
      ]
     },
     "execution_count": 21,
     "metadata": {},
     "output_type": "execute_result"
    }
   ],
   "source": [
    "my_final_roc"
   ]
  },
  {
   "cell_type": "code",
   "execution_count": null,
   "id": "9a20f6b8-369e-46b8-b321-10ee9c322670",
   "metadata": {},
   "outputs": [],
   "source": []
  }
 ],
 "metadata": {
  "kernelspec": {
   "display_name": "Python 3 (ipykernel)",
   "language": "python",
   "name": "python3"
  },
  "language_info": {
   "codemirror_mode": {
    "name": "ipython",
    "version": 3
   },
   "file_extension": ".py",
   "mimetype": "text/x-python",
   "name": "python",
   "nbconvert_exporter": "python",
   "pygments_lexer": "ipython3",
   "version": "3.9.6"
  }
 },
 "nbformat": 4,
 "nbformat_minor": 5
}
